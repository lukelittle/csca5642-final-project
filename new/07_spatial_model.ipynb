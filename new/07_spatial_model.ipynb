{
 "cells": [
  {
   "cell_type": "markdown",
   "metadata": {},
   "source": [
    "# DeepShot: Spatial Model\n",
    "\n",
    "In this notebook, we'll build a spatial model to predict shot success based on court location."
   ]
  },
  {
   "cell_type": "code",
   "execution_count": 2,
   "metadata": {},
   "outputs": [
    {
     "name": "stdout",
     "output_type": "stream",
     "text": [
      "TensorFlow version: 2.15.0\n",
      "GPU available: []\n"
     ]
    }
   ],
   "source": [
    "import pandas as pd\n",
    "import numpy as np\n",
    "import matplotlib.pyplot as plt\n",
    "import seaborn as sns\n",
    "from pathlib import Path\n",
    "import tensorflow as tf\n",
    "from tensorflow import keras\n",
    "from tensorflow.keras import layers, models, optimizers, callbacks\n",
    "from sklearn.model_selection import train_test_split\n",
    "from sklearn.metrics import roc_curve, auc, precision_recall_curve, average_precision_score, confusion_matrix, classification_report\n",
    "\n",
    "# Set visualization style\n",
    "sns.set_theme(style='whitegrid')\n",
    "plt.rcParams['figure.figsize'] = [10, 6]\n",
    "\n",
    "# Create directories\n",
    "processed_dir = Path('../data/processed')\n",
    "features_dir = processed_dir / 'features'\n",
    "models_dir = Path('../models')\n",
    "spatial_model_dir = models_dir / 'spatial_model'\n",
    "\n",
    "for directory in [processed_dir, features_dir, models_dir, spatial_model_dir]:\n",
    "    directory.mkdir(parents=True, exist_ok=True)\n",
    "\n",
    "# Check TensorFlow version and GPU availability\n",
    "print(f\"TensorFlow version: {tf.__version__}\")\n",
    "print(f\"GPU available: {tf.config.list_physical_devices('GPU')}\")"
   ]
  },
  {
   "cell_type": "markdown",
   "metadata": {},
   "source": [
    "## 1. Court Visualization Function"
   ]
  },
  {
   "cell_type": "code",
   "execution_count": 3,
   "metadata": {},
   "outputs": [],
   "source": [
    "# Function to draw NBA court\n",
    "def draw_court(ax=None, color='black', lw=2, outer_lines=False):\n",
    "    # If an axes object isn't provided to plot onto, just get current one\n",
    "    if ax is None:\n",
    "        ax = plt.gca()\n",
    "\n",
    "    # Create the basketball hoop\n",
    "    hoop = plt.Circle((0, 0), radius=7.5, linewidth=lw, color=color, fill=False)\n",
    "\n",
    "    # Create backboard\n",
    "    backboard = plt.Rectangle((-30, -7.5), 60, 0, linewidth=lw, color=color)\n",
    "\n",
    "    # The paint\n",
    "    # Create the outer box of the paint, width=16ft, height=19ft\n",
    "    outer_box = plt.Rectangle((-80, -47.5), 160, 190, linewidth=lw, color=color, fill=False)\n",
    "    # Create the inner box of the paint, width=12ft, height=19ft\n",
    "    inner_box = plt.Rectangle((-60, -47.5), 120, 190, linewidth=lw, color=color, fill=False)\n",
    "\n",
    "    # Create free throw top arc\n",
    "    top_free_throw = plt.Arc((0, 142.5), 120, 120, theta1=0, theta2=180, linewidth=lw, color=color, fill=False)\n",
    "    # Create free throw bottom arc\n",
    "    bottom_free_throw = plt.Arc((0, 142.5), 120, 120, theta1=180, theta2=0, linewidth=lw, color=color, linestyle='dashed')\n",
    "    # Restricted Zone, it is an arc with 4ft radius from center of the hoop\n",
    "    restricted = plt.Arc((0, 0), 80, 80, theta1=0, theta2=180, linewidth=lw, color=color)\n",
    "\n",
    "    # Three point line\n",
    "    # Create the side 3pt lines, they are 14ft long before they begin to arc\n",
    "    corner_three_a = plt.Rectangle((-220, -47.5), 0, 140, linewidth=lw, color=color)\n",
    "    corner_three_b = plt.Rectangle((220, -47.5), 0, 140, linewidth=lw, color=color)\n",
    "    # 3pt arc - center of arc will be the hoop, arc is 23'9\" away from hoop\n",
    "    three_arc = plt.Arc((0, 0), 475, 475, theta1=22, theta2=158, linewidth=lw, color=color)\n",
    "\n",
    "    # Center Court\n",
    "    center_outer_arc = plt.Arc((0, 422.5), 120, 120, theta1=180, theta2=0, linewidth=lw, color=color)\n",
    "    center_inner_arc = plt.Arc((0, 422.5), 40, 40, theta1=180, theta2=0, linewidth=lw, color=color)\n",
    "\n",
    "    # List of the court elements to be plotted onto the axes\n",
    "    court_elements = [hoop, backboard, outer_box, inner_box, top_free_throw, bottom_free_throw, restricted, \n",
    "                      corner_three_a, corner_three_b, three_arc, center_outer_arc, center_inner_arc]\n",
    "\n",
    "    if outer_lines:\n",
    "        # Draw the half court line, baseline and side out bound lines\n",
    "        outer_lines = plt.Rectangle((-250, -47.5), 500, 470, linewidth=lw, color=color, fill=False)\n",
    "        court_elements.append(outer_lines)\n",
    "\n",
    "    # Add the court elements onto the axes\n",
    "    for element in court_elements:\n",
    "        ax.add_patch(element)\n",
    "\n",
    "    return ax"
   ]
  },
  {
   "cell_type": "markdown",
   "metadata": {},
   "source": [
    "## 2. Data Preparation"
   ]
  },
  {
   "cell_type": "code",
   "execution_count": 4,
   "metadata": {},
   "outputs": [
    {
     "name": "stdout",
     "output_type": "stream",
     "text": [
      "Loaded 4650091 shots\n",
      "Training data: (3720072, 4)\n",
      "Testing data: (930019, 4)\n"
     ]
    }
   ],
   "source": [
    "# Load shot data with features\n",
    "shots = pd.read_csv(features_dir / 'shots_with_features.csv')\n",
    "print(f\"Loaded {len(shots)} shots\")\n",
    "\n",
    "# Define target variable and spatial features\n",
    "target = 'shot_made'\n",
    "spatial_features = ['loc_x', 'loc_y', 'shot_distance', 'shot_angle']\n",
    "\n",
    "# Prepare data\n",
    "model_data = shots[spatial_features + [target]].copy()\n",
    "model_data = model_data.dropna()\n",
    "\n",
    "# Split features and target\n",
    "X = model_data.drop(target, axis=1)\n",
    "y = model_data[target]\n",
    "\n",
    "# Split data into training and testing sets\n",
    "X_train, X_test, y_train, y_test = train_test_split(X, y, test_size=0.2, random_state=42)\n",
    "\n",
    "print(f\"Training data: {X_train.shape}\")\n",
    "print(f\"Testing data: {X_test.shape}\")"
   ]
  },
  {
   "cell_type": "code",
   "execution_count": 5,
   "metadata": {},
   "outputs": [
    {
     "name": "stdout",
     "output_type": "stream",
     "text": [
      "CNN input shape: (3720072, 4)\n"
     ]
    }
   ],
   "source": [
    "# Normalize spatial coordinates\n",
    "def normalize_coordinates(data):\n",
    "    data_norm = data.copy()\n",
    "    \n",
    "    # Normalize x and y coordinates\n",
    "    x_min, x_max = -250, 250\n",
    "    y_min, y_max = -50, 450\n",
    "    data_norm['loc_x_norm'] = (data_norm['loc_x'] - x_min) / (x_max - x_min)\n",
    "    data_norm['loc_y_norm'] = (data_norm['loc_y'] - y_min) / (y_max - y_min)\n",
    "    \n",
    "    # Normalize shot distance\n",
    "    max_distance = 500  # Maximum possible distance on court\n",
    "    data_norm['shot_distance_norm'] = data_norm['shot_distance'] / max_distance\n",
    "    \n",
    "    # Normalize shot angle\n",
    "    data_norm['shot_angle_norm'] = (data_norm['shot_angle'] + 180) / 360\n",
    "    \n",
    "    return data_norm\n",
    "\n",
    "# Normalize training and testing data\n",
    "X_train_norm = normalize_coordinates(X_train)\n",
    "X_test_norm = normalize_coordinates(X_test)\n",
    "\n",
    "# Prepare input data for CNN\n",
    "feature_cols = ['loc_x_norm', 'loc_y_norm', 'shot_distance_norm', 'shot_angle_norm']\n",
    "X_train_cnn = X_train_norm[feature_cols].values\n",
    "X_test_cnn = X_test_norm[feature_cols].values\n",
    "\n",
    "print(f\"CNN input shape: {X_train_cnn.shape}\")"
   ]
  },
  {
   "cell_type": "markdown",
   "metadata": {},
   "source": [
    "## 3. Visualize Shot Distribution"
   ]
  },
  {
   "cell_type": "code",
   "execution_count": 6,
   "metadata": {},
   "outputs": [
    {
     "ename": "AttributeError",
     "evalue": "module 'matplotlib.pyplot' has no attribute 'Arc'",
     "output_type": "error",
     "traceback": [
      "\u001b[0;31m---------------------------------------------------------------------------\u001b[0m",
      "\u001b[0;31mAttributeError\u001b[0m                            Traceback (most recent call last)",
      "Cell \u001b[0;32mIn[6], line 9\u001b[0m\n\u001b[1;32m      7\u001b[0m plt\u001b[38;5;241m.\u001b[39mfigure(figsize\u001b[38;5;241m=\u001b[39m(\u001b[38;5;241m10\u001b[39m, \u001b[38;5;241m9\u001b[39m))\n\u001b[1;32m      8\u001b[0m ax \u001b[38;5;241m=\u001b[39m plt\u001b[38;5;241m.\u001b[39mgca()\n\u001b[0;32m----> 9\u001b[0m \u001b[43mdraw_court\u001b[49m\u001b[43m(\u001b[49m\u001b[43max\u001b[49m\u001b[43m,\u001b[49m\u001b[43m \u001b[49m\u001b[43mouter_lines\u001b[49m\u001b[38;5;241;43m=\u001b[39;49m\u001b[38;5;28;43;01mTrue\u001b[39;49;00m\u001b[43m)\u001b[49m\n\u001b[1;32m     11\u001b[0m \u001b[38;5;66;03m# Plot shots (made shots in green, missed in red)\u001b[39;00m\n\u001b[1;32m     12\u001b[0m made_shots \u001b[38;5;241m=\u001b[39m X_train_sample[y_train_sample \u001b[38;5;241m==\u001b[39m \u001b[38;5;241m1\u001b[39m]\n",
      "Cell \u001b[0;32mIn[3], line 20\u001b[0m, in \u001b[0;36mdraw_court\u001b[0;34m(ax, color, lw, outer_lines)\u001b[0m\n\u001b[1;32m     17\u001b[0m inner_box \u001b[38;5;241m=\u001b[39m plt\u001b[38;5;241m.\u001b[39mRectangle((\u001b[38;5;241m-\u001b[39m\u001b[38;5;241m60\u001b[39m, \u001b[38;5;241m-\u001b[39m\u001b[38;5;241m47.5\u001b[39m), \u001b[38;5;241m120\u001b[39m, \u001b[38;5;241m190\u001b[39m, linewidth\u001b[38;5;241m=\u001b[39mlw, color\u001b[38;5;241m=\u001b[39mcolor, fill\u001b[38;5;241m=\u001b[39m\u001b[38;5;28;01mFalse\u001b[39;00m)\n\u001b[1;32m     19\u001b[0m \u001b[38;5;66;03m# Create free throw top arc\u001b[39;00m\n\u001b[0;32m---> 20\u001b[0m top_free_throw \u001b[38;5;241m=\u001b[39m \u001b[43mplt\u001b[49m\u001b[38;5;241;43m.\u001b[39;49m\u001b[43mArc\u001b[49m((\u001b[38;5;241m0\u001b[39m, \u001b[38;5;241m142.5\u001b[39m), \u001b[38;5;241m120\u001b[39m, \u001b[38;5;241m120\u001b[39m, theta1\u001b[38;5;241m=\u001b[39m\u001b[38;5;241m0\u001b[39m, theta2\u001b[38;5;241m=\u001b[39m\u001b[38;5;241m180\u001b[39m, linewidth\u001b[38;5;241m=\u001b[39mlw, color\u001b[38;5;241m=\u001b[39mcolor, fill\u001b[38;5;241m=\u001b[39m\u001b[38;5;28;01mFalse\u001b[39;00m)\n\u001b[1;32m     21\u001b[0m \u001b[38;5;66;03m# Create free throw bottom arc\u001b[39;00m\n\u001b[1;32m     22\u001b[0m bottom_free_throw \u001b[38;5;241m=\u001b[39m plt\u001b[38;5;241m.\u001b[39mArc((\u001b[38;5;241m0\u001b[39m, \u001b[38;5;241m142.5\u001b[39m), \u001b[38;5;241m120\u001b[39m, \u001b[38;5;241m120\u001b[39m, theta1\u001b[38;5;241m=\u001b[39m\u001b[38;5;241m180\u001b[39m, theta2\u001b[38;5;241m=\u001b[39m\u001b[38;5;241m0\u001b[39m, linewidth\u001b[38;5;241m=\u001b[39mlw, color\u001b[38;5;241m=\u001b[39mcolor, linestyle\u001b[38;5;241m=\u001b[39m\u001b[38;5;124m'\u001b[39m\u001b[38;5;124mdashed\u001b[39m\u001b[38;5;124m'\u001b[39m)\n",
      "\u001b[0;31mAttributeError\u001b[0m: module 'matplotlib.pyplot' has no attribute 'Arc'"
     ]
    },
    {
     "data": {
      "image/png": "[encoded data removed]",
      "text/plain": [
       "<Figure size 1000x900 with 1 Axes>"
      ]
     },
     "metadata": {},
     "output_type": "display_data"
    }
   ],
   "source": [
    "# Create a sample of shots for visualization\n",
    "sample_size = min(10000, len(X_train))\n",
    "X_train_sample = X_train.sample(sample_size, random_state=42)\n",
    "y_train_sample = y_train.loc[X_train_sample.index]\n",
    "\n",
    "# Plot shot distribution\n",
    "plt.figure(figsize=(10, 9))\n",
    "ax = plt.gca()\n",
    "draw_court(ax, outer_lines=True)\n",
    "\n",
    "# Plot shots (made shots in green, missed in red)\n",
    "made_shots = X_train_sample[y_train_sample == 1]\n",
    "missed_shots = X_train_sample[y_train_sample == 0]\n",
    "\n",
    "plt.scatter(made_shots['loc_x'], made_shots['loc_y'], c='green', alpha=0.3, s=10, label='Made')\n",
    "plt.scatter(missed_shots['loc_x'], missed_shots['loc_y'], c='red', alpha=0.3, s=10, label='Missed')\n",
    "\n",
    "plt.legend(loc='upper right')\n",
    "plt.title('Shot Distribution in Training Data', fontsize=14)\n",
    "plt.xlim(-250, 250)\n",
    "plt.ylim(-50, 450)\n",
    "plt.axis('off')\n",
    "plt.tight_layout()\n",
    "plt.show()"
   ]
  },
  {
   "cell_type": "markdown",
   "metadata": {},
   "source": [
    "## 4. Build and Train the Model"
   ]
  },
  {
   "cell_type": "code",
   "execution_count": null,
   "metadata": {},
   "outputs": [],
   "source": [
    "# Define CNN model\n",
    "def build_spatial_cnn_model(input_shape):\n",
    "    model = models.Sequential([\n",
    "        # Input layer\n",
    "        layers.Input(shape=input_shape),\n",
    "        \n",
    "        # Reshape input to 2D grid (assuming first two features are x, y coordinates)\n",
    "        layers.Reshape((1, 1, input_shape[0])),\n",
    "        \n",
    "        # Convolutional layers\n",
    "        layers.Conv2D(64, kernel_size=1, activation='relu'),\n",
    "        layers.Conv2D(128, kernel_size=1, activation='relu'),\n",
    "        layers.Conv2D(256, kernel_size=1, activation='relu'),\n",
    "        \n",
    "        # Flatten layer\n",
    "        layers.Flatten(),\n",
    "        \n",
    "        # Dense layers\n",
    "        layers.Dense(128, activation='relu'),\n",
    "        layers.Dropout(0.3),\n",
    "        layers.Dense(64, activation='relu'),\n",
    "        layers.Dropout(0.3),\n",
    "        \n",
    "        # Output layer\n",
    "        layers.Dense(1, activation='sigmoid')\n",
    "    ])\n",
    "    \n",
    "    return model\n",
    "\n",
    "# Build model\n",
    "input_shape = (X_train_cnn.shape[1],)\n",
    "model = build_spatial_cnn_model(input_shape)\n",
    "\n",
    "# Compile model\n",
    "model.compile(\n",
    "    optimizer=optimizers.Adam(learning_rate=0.001),\n",
    "    loss='binary_crossentropy',\n",
    "    metrics=['accuracy']\n",
    ")\n",
    "\n",
    "# Display model summary\n",
    "model.summary()"
   ]
  },
  {
   "cell_type": "code",
   "execution_count": null,
   "metadata": {},
   "outputs": [],
   "source": [
    "# Define callbacks\n",
    "early_stopping = callbacks.EarlyStopping(\n",
    "    monitor='val_loss',\n",
    "    patience=10,\n",
    "    restore_best_weights=True\n",
    ")\n",
    "\n",
    "reduce_lr = callbacks.ReduceLROnPlateau(\n",
    "    monitor='val_loss',\n",
    "    factor=0.2,\n",
    "    patience=5,\n",
    "    min_lr=0.0001\n",
    ")\n",
    "\n",
    "model_checkpoint = callbacks.ModelCheckpoint(\n",
    "    filepath=str(spatial_model_dir / 'spatial_model_best.h5'),\n",
    "    monitor='val_loss',\n",
    "    save_best_only=True,\n",
    "    verbose=1\n",
    ")\n",
    "\n",
    "# Train model\n",
    "history = model.fit(\n",
    "    X_train_cnn, y_train,\n",
    "    epochs=30,  # Reduced for faster training\n",
    "    batch_size=128,\n",
    "    validation_split=0.2,\n",
    "    callbacks=[early_stopping, reduce_lr, model_checkpoint],\n",
    "    verbose=1\n",
    ")"
   ]
  },
  {
   "cell_type": "markdown",
   "metadata": {},
   "source": [
    "## 5. Evaluate the Model"
   ]
  },
  {
   "cell_type": "code",
   "execution_count": null,
   "metadata": {},
   "outputs": [],
   "source": [
    "# Plot training history\n",
    "plt.figure(figsize=(12, 5))\n",
    "\n",
    "# Plot loss\n",
    "plt.subplot(1, 2, 1)\n",
    "plt.plot(history.history['loss'], label='Training Loss')\n",
    "plt.plot(history.history['val_loss'], label='Validation Loss')\n",
    "plt.title('Model Loss')\n",
    "plt.xlabel('Epoch')\n",
    "plt.ylabel('Loss')\n",
    "plt.legend()\n",
    "\n",
    "# Plot accuracy\n",
    "plt.subplot(1, 2, 2)\n",
    "plt.plot(history.history['accuracy'], label='Training Accuracy')\n",
    "plt.plot(history.history['val_accuracy'], label='Validation Accuracy')\n",
    "plt.title('Model Accuracy')\n",
    "plt.xlabel('Epoch')\n",
    "plt.ylabel('Accuracy')\n",
    "plt.legend()\n",
    "\n",
    "plt.tight_layout()\n",
    "plt.show()"
   ]
  },
  {
   "cell_type": "code",
   "execution_count": null,
   "metadata": {},
   "outputs": [],
   "source": [
    "# Evaluate model on test data\n",
    "test_loss, test_accuracy = model.evaluate(X_test_cnn, y_test)\n",
    "print(f\"Test Loss: {test_loss:.4f}\")\n",
    "print(f\"Test Accuracy: {test_accuracy:.4f}\")\n",
    "\n",
    "# Generate predictions\n",
    "y_pred_prob = model.predict(X_test_cnn)\n",
    "y_pred = (y_pred_prob > 0.5).astype(int).flatten()\n",
    "\n",
    "# Calculate metrics\n",
    "print(\"\\nClassification Report:\")\n",
    "print(classification_report(y_test, y_pred))\n",
    "\n",
    "# Confusion matrix\n",
    "cm = confusion_matrix(y_test, y_pred)\n",
    "plt.figure(figsize=(8, 6))\n",
    "sns.heatmap(cm, annot=True, fmt='d', cmap='Blues')\n",
    "plt.title('Confusion Matrix')\n",
    "plt.xlabel('Predicted')\n",
    "plt.ylabel('Actual')\n",
    "plt.tight_layout()\n",
    "plt.show()"
   ]
  },
  {
   "cell_type": "markdown",
   "metadata": {},
   "source": [
    "## 6. Visualize Model Predictions"
   ]
  },
  {
   "cell_type": "code",
   "execution_count": null,
   "metadata": {},
   "outputs": [],
   "source": [
    "# Create a grid of court locations\n",
    "grid_size = 50\n",
    "x_min, x_max = -250, 250\n",
    "y_min, y_max = -50, 450\n",
    "\n",
    "x_grid = np.linspace(x_min, x_max, grid_size)\n",
    "y_grid = np.linspace(y_min, y_max, grid_size)\n",
    "X_grid, Y_grid = np.meshgrid(x_grid, y_grid)\n",
    "\n",
    "# Create input data for each grid point\n",
    "grid_points = []\n",
    "for i in range(grid_size):\n",
    "    for j in range(grid_size):\n",
    "        x = X_grid[i, j]\n",
    "        y = Y_grid[i, j]\n",
    "        distance = np.sqrt(x**2 + y**2)\n",
    "        angle = np.arctan2(x, y) * 180 / np.pi\n",
    "        grid_points.append([x, y, distance, angle])\n",
    "\n",
    "grid_df = pd.DataFrame(grid_points, columns=spatial_features)\n",
    "grid_norm = normalize_coordinates(grid_df)\n",
    "grid_input = grid_norm[feature_cols].values\n",
    "\n",
    "# Generate predictions for grid points\n",
    "grid_pred = model.predict(grid_input).reshape(grid_size, grid_size)\n",
    "\n",
    "# Plot prediction heatmap\n",
    "plt.figure(figsize=(10, 9))\n",
    "ax = plt.gca()\n",
    "draw_court(ax, outer_lines=True)\n",
    "\n",
    "# Plot heatmap\n",
    "plt.imshow(grid_pred, origin='lower', extent=[x_min, x_max, y_min, y_max], \n",
    "           cmap='RdYlGn', vmin=0, vmax=1, alpha=0.7)\n",
    "plt.colorbar(label='Predicted Shot Success Probability')\n",
    "\n",
    "plt.title('Predicted Shot Success Probability by Court Location', fontsize=14)\n",
    "plt.xlim(x_min, x_max)\n",
    "plt.ylim(y_min, y_max)\n",
    "plt.axis('off')\n",
    "plt.tight_layout()\n",
    "plt.show()"
   ]
  },
  {
   "cell_type": "markdown",
   "metadata": {},
   "source": [
    "## 7. Expected Points Analysis"
   ]
  },
  {
   "cell_type": "code",
   "execution_count": null,
   "metadata": {},
   "outputs": [],
   "source": [
    "# Calculate expected points for each grid point\n",
    "def calculate_expected_points(x, y, pred_prob):\n",
    "    # Determine if shot is a 3-pointer\n",
    "    distance_from_basket = np.sqrt(x**2 + y**2)\n",
    "    is_corner_three = (abs(x) > 220) and (y < 140)\n",
    "    is_three_pointer = (distance_from_basket > 237.5) or is_corner_three\n",
    "    \n",
    "    # Calculate expected points\n",
    "    points = 3 if is_three_pointer else 2\n",
    "    expected_points = points * pred_prob\n",
    "    \n",
    "    return expected_points, is_three_pointer\n",
    "\n",
    "# Calculate expected points for grid\n",
    "expected_points_grid = np.zeros((grid_size, grid_size))\n",
    "shot_type_grid = np.zeros((grid_size, grid_size))\n",
    "\n",
    "for i in range(grid_size):\n",
    "    for j in range(grid_size):\n",
    "        x = X_grid[i, j]\n",
    "        y = Y_grid[i, j]\n",
    "        pred_prob = grid_pred[i, j]\n",
    "        expected_points, is_three_pointer = calculate_expected_points(x, y, pred_prob)\n",
    "        expected_points_grid[i, j] = expected_points\n",
    "        shot_type_grid[i, j] = 3 if is_three_pointer else 2\n",
    "\n",
    "# Plot expected points heatmap\n",
    "plt.figure(figsize=(10, 9))\n",
    "ax = plt.gca()\n",
    "draw_court(ax, outer_lines=True)\n",
    "\n",
    "# Plot heatmap\n",
    "plt.imshow(expected_points_grid, origin='lower', extent=[x_min, x_max, y_min, y_max], \n",
    "           cmap='viridis', vmin=0, vmax=1.5, alpha=0.7)\n",
    "plt.colorbar(label='Expected Points per Shot')\n",
    "\n",
    "plt.title('Expected Points per Shot by Court Location', fontsize=14)\n",
    "plt.xlim(x_min, x_max)\n",
    "plt.ylim(y_min, y_max)\n",
    "plt.axis('off')\n",
    "plt.tight_layout()\n",
    "plt.show()"
   ]
  },
  {
   "cell_type": "markdown",
   "metadata": {},
   "source": [
    "## 8. Distance and Angle Analysis"
   ]
  },
  {
   "cell_type": "code",
   "execution_count": null,
   "metadata": {},
   "outputs": [],
   "source": [
    "# Analyze shot success by distance\n",
    "distance_bins = [0, 4, 8, 12, 16, 20, 24, 28, 32, 36, 40]\n",
    "distance_labels = ['0-4', '4-8', '8-12', '12-16', '16-20', '20-24', '24-28', '28-32', '32-36', '36-40']\n",
    "X_test['distance_bin'] = pd.cut(X_test['shot_distance'], bins=distance_bins, labels=distance_labels)\n",
    "\n",
    "# Calculate actual success rate by distance\n",
    "distance_success = pd.DataFrame({\n",
    "    'distance_bin': X_test['distance_bin'],\n",
    "    'actual': y_test,\n",
    "    'predicted': y_pred_prob.flatten()\n",
    "})\n",
    "\n",
    "distance_analysis = distance_success.groupby('distance_bin').agg(\n",
    "    actual_rate=('actual', 'mean'),\n",
    "    predicted_rate=('predicted', 'mean'),\n",
    "    count=('actual', 'count')\n",
    ").reset_index()\n",
    "\n",
    "# Plot distance analysis\n",
    "plt.figure(figsize=(10, 6))\n",
    "plt.plot(distance_analysis['distance_bin'], distance_analysis['actual_rate'], 'o-', label='Actual')\n",
    "plt.plot(distance_analysis['distance_bin'], distance_analysis['predicted_rate'], 's--', label='Predicted')\n",
    "plt.title('Shot Success Rate by Distance', fontsize=14)\n",
    "plt.xlabel('Distance from Basket (feet)')\n",
    "plt.ylabel('Success Rate')\n",
    "plt.xticks(rotation=45)\n",
    "plt.legend()\n",
    "plt.tight_layout()\n",
    "plt.show()"
   ]
  },
  {
   "cell_type": "markdown",
   "metadata": {},
   "source": [
    "## 9. Save the Model"
   ]
  },
  {
   "cell_type": "code",
   "execution_count": null,
   "metadata": {},
   "outputs": [],
   "source": [
    "# Save model\n",
    "model.save(spatial_model_dir / 'spatial_model_final.h5')\n",
    "print(f\"Model saved to {spatial_model_dir / 'spatial_model_final.h5'}\")"
   ]
  },
  {
   "cell_type": "markdown",
   "metadata": {},
   "source": [
    "## Key Insights\n",
    "\n",
    "From our spatial modeling, we've discovered several key insights:\n",
    "\n",
    "1. **Shot success probability decreases with distance** from the basket, with a sharp decline beyond 16 feet.\n",
    "\n",
    "2. **Expected points analysis reveals optimal shooting locations**:\n",
    "   - The restricted area (close to the basket) offers the highest expected points per shot\n",
    "   - Corner three-pointers are more valuable than most mid-range shots despite being further from the basket\n",
    "   - Mid-range shots (16-22 feet) generally offer the lowest expected points per shot\n",
    "\n",
    "3. **Angle impacts shot success**, with straight-on shots generally having higher success rates than angled shots at the same distance.\n",
    "\n",
    "4. **The model achieves good predictive performance** using only spatial features, demonstrating the importance of court location in shot success.\n",
    "\n",
    "These insights can help teams optimize shot selection and defensive strategies. In the next notebook, we'll build a player embedding model to capture player-specific shooting patterns."
   ]
  }
 ],
 "metadata": {
  "kernelspec": {
   "display_name": "venv",
   "language": "python",
   "name": "python3"
  },
  "language_info": {
   "codemirror_mode": {
    "name": "ipython",
    "version": 3
   },
   "file_extension": ".py",
   "mimetype": "text/x-python",
   "name": "python",
   "nbconvert_exporter": "python",
   "pygments_lexer": "ipython3",
   "version": "3.10.13"
  }
 },
 "nbformat": 4,
 "nbformat_minor": 4
}
