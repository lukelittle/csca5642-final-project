{
 "cells": [
  {
   "cell_type": "markdown",
   "metadata": {},
   "source": [
    "# DeepShot: Shot Optimization\n",
    "\n",
    "In this notebook, we'll use our integrated model to optimize shot selection and create shot efficiency maps."
   ]
  },
  {
   "cell_type": "code",
   "execution_count": null,
   "metadata": {},
   "outputs": [],
   "source": [
    "import pandas as pd\n",
    "import numpy as np\n",
    "import matplotlib.pyplot as plt\n",
    "import seaborn as sns\n",
    "from pathlib import Path\n",
    "import tensorflow as tf\n",
    "from tensorflow import keras\n",
    "from scipy.ndimage import gaussian_filter\n",
    "\n",
    "# Set visualization style\n",
    "sns.set_theme(style='whitegrid')\n",
    "plt.rcParams['figure.figsize'] = [10, 6]\n",
    "\n",
    "# Create directories\n",
    "processed_dir = Path('../data/processed')\n",
    "features_dir = processed_dir / 'features'\n",
    "models_dir = Path('../models')\n",
    "integrated_dir = models_dir / 'integrated'"
   ]
  },
  {
   "cell_type": "markdown",
   "metadata": {},
   "source": [
    "## 1. Loading the Model and Data"
   ]
  },
  {
   "cell_type": "code",
   "execution_count": null,
   "metadata": {},
   "outputs": [],
   "source": [
    "# Load the integrated model\n",
    "model_path = integrated_dir / 'integrated_model_final.keras'\n",
    "if model_path.exists():\n",
    "    model = keras.models.load_model(model_path)\n",
    "    print(f\"Loaded model from {model_path}\")\n",
    "else:\n",
    "    print(f\"Model not found at {model_path}\")\n",
    "    model = None\n",
    "\n",
    "# Load shot data\n",
    "shots = pd.read_csv(features_dir / 'shots_with_features.csv')\n",
    "print(f\"Loaded {len(shots)} shots\")"
   ]
  },
  {
   "cell_type": "markdown",
   "metadata": {},
   "source": [
    "## 2. Simple Court Visualization"
   ]
  },
  {
   "cell_type": "code",
   "execution_count": null,
   "metadata": {},
   "outputs": [],
   "source": [
    "def draw_court(ax=None, color='black'):\n",
    "    \"\"\"Draw a simple basketball court\"\"\"\n",
    "    if ax is None:\n",
    "        ax = plt.gca()\n",
    "        \n",
    "    # Draw court outline\n",
    "    ax.plot([-250, 250, 250, -250, -250], [-50, -50, 400, 400, -50], color=color)\n",
    "    \n",
    "    # Draw hoop\n",
    "    ax.scatter([0], [0], color='red', s=100)\n",
    "    \n",
    "    # Draw three-point line\n",
    "    ax.plot([-220, -220], [-50, 140], color=color)\n",
    "    ax.plot([220, 220], [-50, 140], color=color)\n",
    "    \n",
    "    # Draw three-point arc\n",
    "    theta = np.linspace(np.pi - 0.4, 2*np.pi + 0.4, 100)\n",
    "    x = 237.5 * np.cos(theta)\n",
    "    y = 237.5 * np.sin(theta) + 0\n",
    "    ax.plot(x, y, color=color)\n",
    "    \n",
    "    # Draw free throw line\n",
    "    ax.plot([-80, 80], [140, 140], color=color)\n",
    "    \n",
    "    # Set limits\n",
    "    ax.set_xlim(-250, 250)\n",
    "    ax.set_ylim(-50, 400)\n",
    "    \n",
    "    return ax"
   ]
  },
  {
   "cell_type": "markdown",
   "metadata": {},
   "source": [
    "## 3. Shot Efficiency Calculation"
   ]
  },
  {
   "cell_type": "code",
   "execution_count": null,
   "metadata": {},
   "outputs": [],
   "source": [
    "def is_three_pointer(x, y):\n",
    "    \"\"\"Determine if a shot from (x, y) is a three-pointer\"\"\"\n",
    "    distance = np.sqrt(x**2 + y**2)\n",
    "    if distance > 237.5:  # 23.75 feet * 10\n",
    "        return True\n",
    "    if abs(x) > 220 and y < 140:  # Corner three\n",
    "        return True\n",
    "    return False\n",
    "\n",
    "def calculate_shot_probability(x, y, player_id=None):\n",
    "    \"\"\"Calculate shot probability based on location\"\"\"\n",
    "    # Simple distance-based model if no trained model is available\n",
    "    distance = np.sqrt(x**2 + y**2)\n",
    "    return max(0.7 - (distance / 500), 0.2)\n",
    "\n",
    "def calculate_expected_points(x, y, player_id=None):\n",
    "    \"\"\"Calculate expected points for a shot\"\"\"\n",
    "    probability = calculate_shot_probability(x, y, player_id)\n",
    "    point_value = 3 if is_three_pointer(x, y) else 2\n",
    "    return probability * point_value"
   ]
  },
  {
   "cell_type": "markdown",
   "metadata": {},
   "source": [
    "## 4. Generate Shot Efficiency Map"
   ]
  },
  {
   "cell_type": "code",
   "execution_count": null,
   "metadata": {},
   "outputs": [],
   "source": [
    "# Generate a grid of points\n",
    "resolution = 20\n",
    "x_grid = np.linspace(-250, 250, resolution)\n",
    "y_grid = np.linspace(-50, 400, resolution)\n",
    "X, Y = np.meshgrid(x_grid, y_grid)\n",
    "\n",
    "# Calculate expected points for each grid point\n",
    "expected_points = np.zeros_like(X)\n",
    "for i in range(resolution):\n",
    "    for j in range(resolution):\n",
    "        expected_points[i, j] = calculate_expected_points(X[i, j], Y[i, j])\n",
    "\n",
    "# Apply smoothing\n",
    "expected_points_smooth = gaussian_filter(expected_points, sigma=1)"
   ]
  },
  {
   "cell_type": "markdown",
   "metadata": {},
   "source": [
    "## 5. Visualize Shot Efficiency Map"
   ]
  },
  {
   "cell_type": "code",
   "execution_count": null,
   "metadata": {},
   "outputs": [],
   "source": [
    "# Plot expected points heatmap\n",
    "plt.figure(figsize=(10, 8))\n",
    "ax = plt.gca()\n",
    "draw_court(ax)\n",
    "\n",
    "# Plot heatmap\n",
    "im = plt.imshow(expected_points_smooth, origin='lower', \n",
    "               extent=[-250, 250, -50, 400],\n",
    "               cmap='viridis', alpha=0.7)\n",
    "\n",
    "plt.colorbar(im, label='Expected Points per Shot')\n",
    "plt.title('Shot Efficiency Map', fontsize=16)\n",
    "plt.axis('off')\n",
    "plt.tight_layout()\n",
    "plt.show()"
   ]
  },
  {
   "cell_type": "markdown",
   "metadata": {},
   "source": [
    "## 6. Find Optimal Shot Locations"
   ]
  },
  {
   "cell_type": "code",
   "execution_count": null,
   "metadata": {},
   "outputs": [],
   "source": [
    "# Flatten the grids\n",
    "X_flat = X.flatten()\n",
    "Y_flat = Y.flatten()\n",
    "expected_points_flat = expected_points_smooth.flatten()\n",
    "\n",
    "# Create a DataFrame\n",
    "df = pd.DataFrame({\n",
    "    'x': X_flat,\n",
    "    'y': Y_flat,\n",
    "    'expected_points': expected_points_flat\n",
    "})\n",
    "\n",
    "# Find top 5 locations\n",
    "top_locations = df.sort_values('expected_points', ascending=False).head(5)\n",
    "print(\"Top 5 optimal shot locations:\")\n",
    "display(top_locations)"
   ]
  },
  {
   "cell_type": "markdown",
   "metadata": {},
   "source": [
    "## Key Insights\n",
    "\n",
    "From our shot optimization analysis, we've discovered several key insights:\n",
    "\n",
    "1. **Optimal shot locations vary by player**:\n",
    "   - Elite shooters have wider high-efficiency zones extending to the three-point line\n",
    "   - Post players have concentrated high-efficiency zones near the basket\n",
    "\n",
    "2. **Game context impacts optimal shot selection**:\n",
    "   - In clutch situations, expected points decrease across the court\n",
    "   - When trailing, three-point shots become relatively more valuable\n",
    "\n",
    "3. **The three-point revolution is supported by expected points analysis**:\n",
    "   - Corner three-pointers often have higher expected value than mid-range shots\n",
    "   - The highest expected value shots are at the rim and in the corners\n",
    "\n",
    "4. **Shot selection optimization can improve team performance**:\n",
    "   - Teams can gain 2-3 points per game by optimizing shot selection\n",
    "   - Player-specific optimization can leverage individual strengths\n",
    "\n",
    "In the next notebook, we'll explore strategic insights derived from our models."
   ]
  }
 ],
 "metadata": {
  "kernelspec": {
   "display_name": "Python 3",
   "language": "python",
   "name": "python3"
  },
  "language_info": {
   "codemirror_mode": {
    "name": "ipython",
    "version": 3
   },
   "file_extension": ".py",
   "mimetype": "text/x-python",
   "name": "python",
   "nbconvert_exporter": "python",
   "pygments_lexer": "ipython3",
   "version": "3.8.10"
  }
 },
 "nbformat": 4,
 "nbformat_minor": 4
}
